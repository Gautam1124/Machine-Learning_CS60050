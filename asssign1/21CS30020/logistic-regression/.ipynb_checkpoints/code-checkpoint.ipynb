{
 "cells": [
  {
   "cell_type": "markdown",
   "metadata": {},
   "source": [
    "## Assignment 1\n",
    "### Name: Gautam Kumar\n",
    "### Roll Number: 21CS30020"
   ]
  },
  {
   "cell_type": "code",
   "execution_count": 134,
   "metadata": {},
   "outputs": [],
   "source": [
    "# import all the necessary libraries here\n",
    "import pandas as pd\n",
    "import numpy as np\n",
    "from sklearn.model_selection import train_test_split\n",
    "from numpy.linalg import inv\n",
    "import matplotlib.pyplot as plt\n",
    "from sklearn.metrics import confusion_matrix,ConfusionMatrixDisplay"
   ]
  },
  {
   "cell_type": "code",
   "execution_count": 135,
   "metadata": {},
   "outputs": [
    {
     "name": "stdout",
     "output_type": "stream",
     "text": [
      "(2500, 13)\n"
     ]
    }
   ],
   "source": [
    "df = pd.read_excel('../../dataset/logistic-regression/Pumpkin_Seeds_Dataset.xlsx')\n",
    "print(df.shape) "
   ]
  },
  {
   "cell_type": "code",
   "execution_count": 136,
   "metadata": {},
   "outputs": [
    {
     "data": {
      "text/html": [
       "<div>\n",
       "<style scoped>\n",
       "    .dataframe tbody tr th:only-of-type {\n",
       "        vertical-align: middle;\n",
       "    }\n",
       "\n",
       "    .dataframe tbody tr th {\n",
       "        vertical-align: top;\n",
       "    }\n",
       "\n",
       "    .dataframe thead th {\n",
       "        text-align: right;\n",
       "    }\n",
       "</style>\n",
       "<table border=\"1\" class=\"dataframe\">\n",
       "  <thead>\n",
       "    <tr style=\"text-align: right;\">\n",
       "      <th></th>\n",
       "      <th>Area</th>\n",
       "      <th>Perimeter</th>\n",
       "      <th>Major_Axis_Length</th>\n",
       "      <th>Minor_Axis_Length</th>\n",
       "      <th>Convex_Area</th>\n",
       "      <th>Equiv_Diameter</th>\n",
       "      <th>Eccentricity</th>\n",
       "      <th>Solidity</th>\n",
       "      <th>Extent</th>\n",
       "      <th>Roundness</th>\n",
       "      <th>Aspect_Ration</th>\n",
       "      <th>Compactness</th>\n",
       "      <th>Class</th>\n",
       "    </tr>\n",
       "  </thead>\n",
       "  <tbody>\n",
       "    <tr>\n",
       "      <th>0</th>\n",
       "      <td>56276</td>\n",
       "      <td>888.242</td>\n",
       "      <td>326.1485</td>\n",
       "      <td>220.2388</td>\n",
       "      <td>56831</td>\n",
       "      <td>267.6805</td>\n",
       "      <td>0.7376</td>\n",
       "      <td>0.9902</td>\n",
       "      <td>0.7453</td>\n",
       "      <td>0.8963</td>\n",
       "      <td>1.4809</td>\n",
       "      <td>0.8207</td>\n",
       "      <td>Çerçevelik</td>\n",
       "    </tr>\n",
       "    <tr>\n",
       "      <th>1</th>\n",
       "      <td>76631</td>\n",
       "      <td>1068.146</td>\n",
       "      <td>417.1932</td>\n",
       "      <td>234.2289</td>\n",
       "      <td>77280</td>\n",
       "      <td>312.3614</td>\n",
       "      <td>0.8275</td>\n",
       "      <td>0.9916</td>\n",
       "      <td>0.7151</td>\n",
       "      <td>0.8440</td>\n",
       "      <td>1.7811</td>\n",
       "      <td>0.7487</td>\n",
       "      <td>Çerçevelik</td>\n",
       "    </tr>\n",
       "    <tr>\n",
       "      <th>2</th>\n",
       "      <td>71623</td>\n",
       "      <td>1082.987</td>\n",
       "      <td>435.8328</td>\n",
       "      <td>211.0457</td>\n",
       "      <td>72663</td>\n",
       "      <td>301.9822</td>\n",
       "      <td>0.8749</td>\n",
       "      <td>0.9857</td>\n",
       "      <td>0.7400</td>\n",
       "      <td>0.7674</td>\n",
       "      <td>2.0651</td>\n",
       "      <td>0.6929</td>\n",
       "      <td>Çerçevelik</td>\n",
       "    </tr>\n",
       "    <tr>\n",
       "      <th>3</th>\n",
       "      <td>66458</td>\n",
       "      <td>992.051</td>\n",
       "      <td>381.5638</td>\n",
       "      <td>222.5322</td>\n",
       "      <td>67118</td>\n",
       "      <td>290.8899</td>\n",
       "      <td>0.8123</td>\n",
       "      <td>0.9902</td>\n",
       "      <td>0.7396</td>\n",
       "      <td>0.8486</td>\n",
       "      <td>1.7146</td>\n",
       "      <td>0.7624</td>\n",
       "      <td>Çerçevelik</td>\n",
       "    </tr>\n",
       "    <tr>\n",
       "      <th>4</th>\n",
       "      <td>66107</td>\n",
       "      <td>998.146</td>\n",
       "      <td>383.8883</td>\n",
       "      <td>220.4545</td>\n",
       "      <td>67117</td>\n",
       "      <td>290.1207</td>\n",
       "      <td>0.8187</td>\n",
       "      <td>0.9850</td>\n",
       "      <td>0.6752</td>\n",
       "      <td>0.8338</td>\n",
       "      <td>1.7413</td>\n",
       "      <td>0.7557</td>\n",
       "      <td>Çerçevelik</td>\n",
       "    </tr>\n",
       "  </tbody>\n",
       "</table>\n",
       "</div>"
      ],
      "text/plain": [
       "    Area  Perimeter  Major_Axis_Length  Minor_Axis_Length  Convex_Area  \\\n",
       "0  56276    888.242           326.1485           220.2388        56831   \n",
       "1  76631   1068.146           417.1932           234.2289        77280   \n",
       "2  71623   1082.987           435.8328           211.0457        72663   \n",
       "3  66458    992.051           381.5638           222.5322        67118   \n",
       "4  66107    998.146           383.8883           220.4545        67117   \n",
       "\n",
       "   Equiv_Diameter  Eccentricity  Solidity  Extent  Roundness  Aspect_Ration  \\\n",
       "0        267.6805        0.7376    0.9902  0.7453     0.8963         1.4809   \n",
       "1        312.3614        0.8275    0.9916  0.7151     0.8440         1.7811   \n",
       "2        301.9822        0.8749    0.9857  0.7400     0.7674         2.0651   \n",
       "3        290.8899        0.8123    0.9902  0.7396     0.8486         1.7146   \n",
       "4        290.1207        0.8187    0.9850  0.6752     0.8338         1.7413   \n",
       "\n",
       "   Compactness       Class  \n",
       "0       0.8207  Çerçevelik  \n",
       "1       0.7487  Çerçevelik  \n",
       "2       0.6929  Çerçevelik  \n",
       "3       0.7624  Çerçevelik  \n",
       "4       0.7557  Çerçevelik  "
      ]
     },
     "execution_count": 136,
     "metadata": {},
     "output_type": "execute_result"
    }
   ],
   "source": [
    "df.head()"
   ]
  },
  {
   "cell_type": "code",
   "execution_count": 137,
   "metadata": {},
   "outputs": [
    {
     "name": "stdout",
     "output_type": "stream",
     "text": [
      "<class 'pandas.core.frame.DataFrame'>\n",
      "RangeIndex: 2500 entries, 0 to 2499\n",
      "Data columns (total 13 columns):\n",
      " #   Column             Non-Null Count  Dtype  \n",
      "---  ------             --------------  -----  \n",
      " 0   Area               2500 non-null   int64  \n",
      " 1   Perimeter          2500 non-null   float64\n",
      " 2   Major_Axis_Length  2500 non-null   float64\n",
      " 3   Minor_Axis_Length  2500 non-null   float64\n",
      " 4   Convex_Area        2500 non-null   int64  \n",
      " 5   Equiv_Diameter     2500 non-null   float64\n",
      " 6   Eccentricity       2500 non-null   float64\n",
      " 7   Solidity           2500 non-null   float64\n",
      " 8   Extent             2500 non-null   float64\n",
      " 9   Roundness          2500 non-null   float64\n",
      " 10  Aspect_Ration      2500 non-null   float64\n",
      " 11  Compactness        2500 non-null   float64\n",
      " 12  Class              2500 non-null   object \n",
      "dtypes: float64(10), int64(2), object(1)\n",
      "memory usage: 254.0+ KB\n"
     ]
    }
   ],
   "source": [
    "df.info()"
   ]
  },
  {
   "cell_type": "code",
   "execution_count": 138,
   "metadata": {},
   "outputs": [
    {
     "data": {
      "text/html": [
       "<div>\n",
       "<style scoped>\n",
       "    .dataframe tbody tr th:only-of-type {\n",
       "        vertical-align: middle;\n",
       "    }\n",
       "\n",
       "    .dataframe tbody tr th {\n",
       "        vertical-align: top;\n",
       "    }\n",
       "\n",
       "    .dataframe thead th {\n",
       "        text-align: right;\n",
       "    }\n",
       "</style>\n",
       "<table border=\"1\" class=\"dataframe\">\n",
       "  <thead>\n",
       "    <tr style=\"text-align: right;\">\n",
       "      <th></th>\n",
       "      <th>Area</th>\n",
       "      <th>Perimeter</th>\n",
       "      <th>Major_Axis_Length</th>\n",
       "      <th>Minor_Axis_Length</th>\n",
       "      <th>Convex_Area</th>\n",
       "      <th>Equiv_Diameter</th>\n",
       "      <th>Eccentricity</th>\n",
       "      <th>Solidity</th>\n",
       "      <th>Extent</th>\n",
       "      <th>Roundness</th>\n",
       "      <th>Aspect_Ration</th>\n",
       "      <th>Compactness</th>\n",
       "    </tr>\n",
       "  </thead>\n",
       "  <tbody>\n",
       "    <tr>\n",
       "      <th>count</th>\n",
       "      <td>2500.000000</td>\n",
       "      <td>2500.000000</td>\n",
       "      <td>2500.000000</td>\n",
       "      <td>2500.000000</td>\n",
       "      <td>2500.000000</td>\n",
       "      <td>2500.000000</td>\n",
       "      <td>2500.000000</td>\n",
       "      <td>2500.000000</td>\n",
       "      <td>2500.000000</td>\n",
       "      <td>2500.000000</td>\n",
       "      <td>2500.000000</td>\n",
       "      <td>2500.000000</td>\n",
       "    </tr>\n",
       "    <tr>\n",
       "      <th>mean</th>\n",
       "      <td>80658.220800</td>\n",
       "      <td>1130.279015</td>\n",
       "      <td>456.601840</td>\n",
       "      <td>225.794921</td>\n",
       "      <td>81508.084400</td>\n",
       "      <td>319.334230</td>\n",
       "      <td>0.860879</td>\n",
       "      <td>0.989492</td>\n",
       "      <td>0.693205</td>\n",
       "      <td>0.791533</td>\n",
       "      <td>2.041702</td>\n",
       "      <td>0.704121</td>\n",
       "    </tr>\n",
       "    <tr>\n",
       "      <th>std</th>\n",
       "      <td>13664.510228</td>\n",
       "      <td>109.256418</td>\n",
       "      <td>56.235704</td>\n",
       "      <td>23.297245</td>\n",
       "      <td>13764.092788</td>\n",
       "      <td>26.891920</td>\n",
       "      <td>0.045167</td>\n",
       "      <td>0.003494</td>\n",
       "      <td>0.060914</td>\n",
       "      <td>0.055924</td>\n",
       "      <td>0.315997</td>\n",
       "      <td>0.053067</td>\n",
       "    </tr>\n",
       "    <tr>\n",
       "      <th>min</th>\n",
       "      <td>47939.000000</td>\n",
       "      <td>868.485000</td>\n",
       "      <td>320.844600</td>\n",
       "      <td>152.171800</td>\n",
       "      <td>48366.000000</td>\n",
       "      <td>247.058400</td>\n",
       "      <td>0.492100</td>\n",
       "      <td>0.918600</td>\n",
       "      <td>0.468000</td>\n",
       "      <td>0.554600</td>\n",
       "      <td>1.148700</td>\n",
       "      <td>0.560800</td>\n",
       "    </tr>\n",
       "    <tr>\n",
       "      <th>25%</th>\n",
       "      <td>70765.000000</td>\n",
       "      <td>1048.829750</td>\n",
       "      <td>414.957850</td>\n",
       "      <td>211.245925</td>\n",
       "      <td>71512.000000</td>\n",
       "      <td>300.167975</td>\n",
       "      <td>0.831700</td>\n",
       "      <td>0.988300</td>\n",
       "      <td>0.658900</td>\n",
       "      <td>0.751900</td>\n",
       "      <td>1.801050</td>\n",
       "      <td>0.663475</td>\n",
       "    </tr>\n",
       "    <tr>\n",
       "      <th>50%</th>\n",
       "      <td>79076.000000</td>\n",
       "      <td>1123.672000</td>\n",
       "      <td>449.496600</td>\n",
       "      <td>224.703100</td>\n",
       "      <td>79872.000000</td>\n",
       "      <td>317.305350</td>\n",
       "      <td>0.863700</td>\n",
       "      <td>0.990300</td>\n",
       "      <td>0.713050</td>\n",
       "      <td>0.797750</td>\n",
       "      <td>1.984200</td>\n",
       "      <td>0.707700</td>\n",
       "    </tr>\n",
       "    <tr>\n",
       "      <th>75%</th>\n",
       "      <td>89757.500000</td>\n",
       "      <td>1203.340500</td>\n",
       "      <td>492.737650</td>\n",
       "      <td>240.672875</td>\n",
       "      <td>90797.750000</td>\n",
       "      <td>338.057375</td>\n",
       "      <td>0.897025</td>\n",
       "      <td>0.991500</td>\n",
       "      <td>0.740225</td>\n",
       "      <td>0.834325</td>\n",
       "      <td>2.262075</td>\n",
       "      <td>0.743500</td>\n",
       "    </tr>\n",
       "    <tr>\n",
       "      <th>max</th>\n",
       "      <td>136574.000000</td>\n",
       "      <td>1559.450000</td>\n",
       "      <td>661.911300</td>\n",
       "      <td>305.818000</td>\n",
       "      <td>138384.000000</td>\n",
       "      <td>417.002900</td>\n",
       "      <td>0.948100</td>\n",
       "      <td>0.994400</td>\n",
       "      <td>0.829600</td>\n",
       "      <td>0.939600</td>\n",
       "      <td>3.144400</td>\n",
       "      <td>0.904900</td>\n",
       "    </tr>\n",
       "  </tbody>\n",
       "</table>\n",
       "</div>"
      ],
      "text/plain": [
       "                Area    Perimeter  Major_Axis_Length  Minor_Axis_Length  \\\n",
       "count    2500.000000  2500.000000        2500.000000        2500.000000   \n",
       "mean    80658.220800  1130.279015         456.601840         225.794921   \n",
       "std     13664.510228   109.256418          56.235704          23.297245   \n",
       "min     47939.000000   868.485000         320.844600         152.171800   \n",
       "25%     70765.000000  1048.829750         414.957850         211.245925   \n",
       "50%     79076.000000  1123.672000         449.496600         224.703100   \n",
       "75%     89757.500000  1203.340500         492.737650         240.672875   \n",
       "max    136574.000000  1559.450000         661.911300         305.818000   \n",
       "\n",
       "         Convex_Area  Equiv_Diameter  Eccentricity     Solidity       Extent  \\\n",
       "count    2500.000000     2500.000000   2500.000000  2500.000000  2500.000000   \n",
       "mean    81508.084400      319.334230      0.860879     0.989492     0.693205   \n",
       "std     13764.092788       26.891920      0.045167     0.003494     0.060914   \n",
       "min     48366.000000      247.058400      0.492100     0.918600     0.468000   \n",
       "25%     71512.000000      300.167975      0.831700     0.988300     0.658900   \n",
       "50%     79872.000000      317.305350      0.863700     0.990300     0.713050   \n",
       "75%     90797.750000      338.057375      0.897025     0.991500     0.740225   \n",
       "max    138384.000000      417.002900      0.948100     0.994400     0.829600   \n",
       "\n",
       "         Roundness  Aspect_Ration  Compactness  \n",
       "count  2500.000000    2500.000000  2500.000000  \n",
       "mean      0.791533       2.041702     0.704121  \n",
       "std       0.055924       0.315997     0.053067  \n",
       "min       0.554600       1.148700     0.560800  \n",
       "25%       0.751900       1.801050     0.663475  \n",
       "50%       0.797750       1.984200     0.707700  \n",
       "75%       0.834325       2.262075     0.743500  \n",
       "max       0.939600       3.144400     0.904900  "
      ]
     },
     "execution_count": 138,
     "metadata": {},
     "output_type": "execute_result"
    }
   ],
   "source": [
    "df.describe()"
   ]
  },
  {
   "cell_type": "code",
   "execution_count": 139,
   "metadata": {},
   "outputs": [
    {
     "name": "stdout",
     "output_type": "stream",
     "text": [
      "['Çerçevelik' 'Ürgüp Sivrisi']\n"
     ]
    }
   ],
   "source": [
    "print(df[\"Class\"].unique())"
   ]
  },
  {
   "cell_type": "code",
   "execution_count": 140,
   "metadata": {},
   "outputs": [
    {
     "data": {
      "text/html": [
       "<div>\n",
       "<style scoped>\n",
       "    .dataframe tbody tr th:only-of-type {\n",
       "        vertical-align: middle;\n",
       "    }\n",
       "\n",
       "    .dataframe tbody tr th {\n",
       "        vertical-align: top;\n",
       "    }\n",
       "\n",
       "    .dataframe thead th {\n",
       "        text-align: right;\n",
       "    }\n",
       "</style>\n",
       "<table border=\"1\" class=\"dataframe\">\n",
       "  <thead>\n",
       "    <tr style=\"text-align: right;\">\n",
       "      <th></th>\n",
       "      <th>Area</th>\n",
       "      <th>Perimeter</th>\n",
       "      <th>Major_Axis_Length</th>\n",
       "      <th>Minor_Axis_Length</th>\n",
       "      <th>Convex_Area</th>\n",
       "      <th>Equiv_Diameter</th>\n",
       "      <th>Eccentricity</th>\n",
       "      <th>Solidity</th>\n",
       "      <th>Extent</th>\n",
       "      <th>Roundness</th>\n",
       "      <th>Aspect_Ration</th>\n",
       "      <th>Compactness</th>\n",
       "      <th>Class</th>\n",
       "    </tr>\n",
       "  </thead>\n",
       "  <tbody>\n",
       "    <tr>\n",
       "      <th>0</th>\n",
       "      <td>56276</td>\n",
       "      <td>888.242</td>\n",
       "      <td>326.1485</td>\n",
       "      <td>220.2388</td>\n",
       "      <td>56831</td>\n",
       "      <td>267.6805</td>\n",
       "      <td>0.7376</td>\n",
       "      <td>0.9902</td>\n",
       "      <td>0.7453</td>\n",
       "      <td>0.8963</td>\n",
       "      <td>1.4809</td>\n",
       "      <td>0.8207</td>\n",
       "      <td>0</td>\n",
       "    </tr>\n",
       "    <tr>\n",
       "      <th>1</th>\n",
       "      <td>76631</td>\n",
       "      <td>1068.146</td>\n",
       "      <td>417.1932</td>\n",
       "      <td>234.2289</td>\n",
       "      <td>77280</td>\n",
       "      <td>312.3614</td>\n",
       "      <td>0.8275</td>\n",
       "      <td>0.9916</td>\n",
       "      <td>0.7151</td>\n",
       "      <td>0.8440</td>\n",
       "      <td>1.7811</td>\n",
       "      <td>0.7487</td>\n",
       "      <td>0</td>\n",
       "    </tr>\n",
       "    <tr>\n",
       "      <th>2</th>\n",
       "      <td>71623</td>\n",
       "      <td>1082.987</td>\n",
       "      <td>435.8328</td>\n",
       "      <td>211.0457</td>\n",
       "      <td>72663</td>\n",
       "      <td>301.9822</td>\n",
       "      <td>0.8749</td>\n",
       "      <td>0.9857</td>\n",
       "      <td>0.7400</td>\n",
       "      <td>0.7674</td>\n",
       "      <td>2.0651</td>\n",
       "      <td>0.6929</td>\n",
       "      <td>0</td>\n",
       "    </tr>\n",
       "    <tr>\n",
       "      <th>3</th>\n",
       "      <td>66458</td>\n",
       "      <td>992.051</td>\n",
       "      <td>381.5638</td>\n",
       "      <td>222.5322</td>\n",
       "      <td>67118</td>\n",
       "      <td>290.8899</td>\n",
       "      <td>0.8123</td>\n",
       "      <td>0.9902</td>\n",
       "      <td>0.7396</td>\n",
       "      <td>0.8486</td>\n",
       "      <td>1.7146</td>\n",
       "      <td>0.7624</td>\n",
       "      <td>0</td>\n",
       "    </tr>\n",
       "    <tr>\n",
       "      <th>4</th>\n",
       "      <td>66107</td>\n",
       "      <td>998.146</td>\n",
       "      <td>383.8883</td>\n",
       "      <td>220.4545</td>\n",
       "      <td>67117</td>\n",
       "      <td>290.1207</td>\n",
       "      <td>0.8187</td>\n",
       "      <td>0.9850</td>\n",
       "      <td>0.6752</td>\n",
       "      <td>0.8338</td>\n",
       "      <td>1.7413</td>\n",
       "      <td>0.7557</td>\n",
       "      <td>0</td>\n",
       "    </tr>\n",
       "  </tbody>\n",
       "</table>\n",
       "</div>"
      ],
      "text/plain": [
       "    Area  Perimeter  Major_Axis_Length  Minor_Axis_Length  Convex_Area  \\\n",
       "0  56276    888.242           326.1485           220.2388        56831   \n",
       "1  76631   1068.146           417.1932           234.2289        77280   \n",
       "2  71623   1082.987           435.8328           211.0457        72663   \n",
       "3  66458    992.051           381.5638           222.5322        67118   \n",
       "4  66107    998.146           383.8883           220.4545        67117   \n",
       "\n",
       "   Equiv_Diameter  Eccentricity  Solidity  Extent  Roundness  Aspect_Ration  \\\n",
       "0        267.6805        0.7376    0.9902  0.7453     0.8963         1.4809   \n",
       "1        312.3614        0.8275    0.9916  0.7151     0.8440         1.7811   \n",
       "2        301.9822        0.8749    0.9857  0.7400     0.7674         2.0651   \n",
       "3        290.8899        0.8123    0.9902  0.7396     0.8486         1.7146   \n",
       "4        290.1207        0.8187    0.9850  0.6752     0.8338         1.7413   \n",
       "\n",
       "   Compactness  Class  \n",
       "0       0.8207      0  \n",
       "1       0.7487      0  \n",
       "2       0.6929      0  \n",
       "3       0.7624      0  \n",
       "4       0.7557      0  "
      ]
     },
     "execution_count": 140,
     "metadata": {},
     "output_type": "execute_result"
    }
   ],
   "source": [
    "mapping = {'Çerçevelik': 0 , 'Ürgüp Sivrisi' : 1}\n",
    "df.replace({'Class': mapping} , inplace=True)\n",
    "df.head()"
   ]
  },
  {
   "cell_type": "code",
   "execution_count": 141,
   "metadata": {},
   "outputs": [],
   "source": [
    "X = df.iloc[:,:-1].values\n",
    "Y = df.iloc[:,-1].values\n",
    "X_train , X,Y_train,Y = train_test_split(X,Y,test_size=0.5,random_state=0)\n",
    "X_val,X_test,Y_val,Y_test = train_test_split(X,Y,test_size = 0.4,random_state = 0)\n",
    "\n"
   ]
  },
  {
   "cell_type": "code",
   "execution_count": 142,
   "metadata": {},
   "outputs": [],
   "source": [
    "from sklearn.preprocessing import StandardScaler    \n",
    "st_x= StandardScaler()    \n",
    "X_train= st_x.fit_transform(X_train)    \n",
    "X_test= st_x.transform(X_test)  "
   ]
  },
  {
   "cell_type": "code",
   "execution_count": 143,
   "metadata": {},
   "outputs": [
    {
     "name": "stdout",
     "output_type": "stream",
     "text": [
      "(1250, 12) (1250,)\n",
      "(750, 12) (750,)\n",
      "(500, 12) (500,)\n"
     ]
    }
   ],
   "source": [
    "print(X_train.shape, Y_train.shape)\n",
    "print(X_val.shape, Y_val.shape)\n",
    "print(X_test.shape, Y_test.shape)"
   ]
  },
  {
   "cell_type": "code",
   "execution_count": 144,
   "metadata": {},
   "outputs": [],
   "source": [
    "class logistic_regression():\n",
    "    def __init__(self, epoch= 15000, learning_rate = 0.001 ):\n",
    "        self.epoch = epoch\n",
    "        self.learning_rate = learning_rate\n",
    "        self.cost = []\n",
    "        self.init_weight = None\n",
    "        self.final_weight = None\n",
    "    \n",
    "    def initialize_weight(self,n_feature):\n",
    "        limit = np.sqrt(1/n_feature)\n",
    "        weight = np.random.uniform(-limit,limit,(n_feature,1))\n",
    "        b = 0\n",
    "        self.init_weight = np.insert(weight,0,b,axis = 0)\n",
    "        \n",
    "    \n",
    "    def train(self, X,Y):\n",
    "        n_sample ,n_feature = X.shape\n",
    "        X = np.insert(X,0,1,axis = 1)\n",
    "        Y = np.reshape(Y,(n_sample,1))\n",
    "        self.initialize_weight(n_feature)\n",
    "        self.fit(X,Y)\n",
    "      \n",
    "    \n",
    "    def fit(self,X,Y):\n",
    "        _weight = self.init_weight.copy()\n",
    "        y_pred = self.sigmoid(np.dot(X,_weight))\n",
    "        self.cost.append(self.gradient_cost(X,Y,_weight))\n",
    "        \n",
    "        for _ in range(self.epoch):\n",
    "            y_pred = self.sigmoid(np.dot(X,_weight))\n",
    "            grad = np.dot(X.T, y_pred - Y)\n",
    "            _weight = _weight - self.learning_rate*grad\n",
    "            self.cost.append(self.gradient_cost(X,Y,_weight))\n",
    "        self.final_weight = _weight\n",
    "        return\n",
    "                    \n",
    "      \n",
    "    def predict(self,X):\n",
    "        out = np.dot(X,self.final_weight)\n",
    "        out = self.sigmoid(out)\n",
    "        out = (out >= 0.5)*1\n",
    "        return out\n",
    "    \n",
    "    def sigmoid(self,Y):\n",
    "        sig = 1 + np.exp(-1*Y)\n",
    "        sig = 1/sig\n",
    "        return sig\n",
    "    \n",
    "    def gradient_cost(self,X,Y,_weight):\n",
    "        y_pred = self.sigmoid(np.dot(X,_weight))\n",
    "        return np.mean(-1*(Y*np.log(y_pred) + (1-Y)*np.log(1 - y_pred)))\n",
    "    \n",
    "    def viswalize_loss(self):\n",
    "        figure, ax = plt.subplots()\n",
    "        nums = np.arange(len(self.cost))\n",
    "        ax.plot(nums, np.array(self.cost).reshape((len(self.cost,))))\n",
    "        ax.set_xlabel('Epoch')\n",
    "        ax.set_ylabel('Cost')\n",
    "        plt.show()\n",
    "    \n",
    "    def metrics_loss(self,X,Y):\n",
    "        n_sample,n_feature = X.shape\n",
    "        X = np.insert(X,0,1,axis = 1)\n",
    "        Y = np.reshape(Y,(n_sample,1))\n",
    "        y_pred = self.sigmoid(np.dot(X,self.final_weight))\n",
    "        y_pred = (y_pred >= 0.5)\n",
    "        con_matrix = confusion_matrix(Y,y_pred)\n",
    "        cm_display = ConfusionMatrixDisplay(confusion_matrix = con_matrix, display_labels = [False, True])\n",
    "        cm_display.plot()\n",
    "        plt.show()\n",
    "        recall = con_matrix[1][1]/(con_matrix[1][0] + con_matrix[1][1])\n",
    "        precison = con_matrix[1][1] /(con_matrix[1][1] + con_matrix[0][1])\n",
    "        accuracy = (con_matrix[0][0] + con_matrix[1][1])/(con_matrix[0][0] + con_matrix[0][1] + con_matrix[1][0] + con_matrix[1][1])\n",
    "        df = pd.DataFrame([[recall, precison, accuracy]], columns=['Recall','Precision', 'Mean Accuracy'])\n",
    "        return df\n",
    "       \n",
    "    def print_loss(self):\n",
    "        print(self.cost)\n",
    "        \n",
    "        "
   ]
  },
  {
   "cell_type": "code",
   "execution_count": 145,
   "metadata": {},
   "outputs": [],
   "source": [
    "logistic_regressor = logistic_regression()"
   ]
  },
  {
   "cell_type": "code",
   "execution_count": 146,
   "metadata": {},
   "outputs": [],
   "source": [
    "logistic_regressor.train(X_train,Y_train)"
   ]
  },
  {
   "cell_type": "code",
   "execution_count": 147,
   "metadata": {},
   "outputs": [
    {
     "data": {
      "image/png": "[encoded data removed]",
      "text/plain": [
       "<Figure size 640x480 with 2 Axes>"
      ]
     },
     "metadata": {},
     "output_type": "display_data"
    }
   ],
   "source": [
    "mat_loss_df = logistic_regressor.metrics_loss(X_train,Y_train)\n",
    "mat_loss_df.rename(index={0:'Train_data'},inplace=True)"
   ]
  },
  {
   "cell_type": "code",
   "execution_count": 149,
   "metadata": {},
   "outputs": [
    {
     "data": {
      "text/html": [
       "<div>\n",
       "<style scoped>\n",
       "    .dataframe tbody tr th:only-of-type {\n",
       "        vertical-align: middle;\n",
       "    }\n",
       "\n",
       "    .dataframe tbody tr th {\n",
       "        vertical-align: top;\n",
       "    }\n",
       "\n",
       "    .dataframe thead th {\n",
       "        text-align: right;\n",
       "    }\n",
       "</style>\n",
       "<table border=\"1\" class=\"dataframe\">\n",
       "  <thead>\n",
       "    <tr style=\"text-align: right;\">\n",
       "      <th></th>\n",
       "      <th>Recall</th>\n",
       "      <th>Precision</th>\n",
       "      <th>Mean Accuracy</th>\n",
       "    </tr>\n",
       "  </thead>\n",
       "  <tbody>\n",
       "    <tr>\n",
       "      <th>Train_data</th>\n",
       "      <td>0.855263</td>\n",
       "      <td>0.8981</td>\n",
       "      <td>0.8824</td>\n",
       "    </tr>\n",
       "  </tbody>\n",
       "</table>\n",
       "</div>"
      ],
      "text/plain": [
       "              Recall  Precision  Mean Accuracy\n",
       "Train_data  0.855263     0.8981         0.8824"
      ]
     },
     "execution_count": 149,
     "metadata": {},
     "output_type": "execute_result"
    }
   ],
   "source": [
    "mat_loss_df"
   ]
  },
  {
   "cell_type": "code",
   "execution_count": 150,
   "metadata": {},
   "outputs": [
    {
     "data": {
      "image/png": "[encoded data removed]",
      "text/plain": [
       "<Figure size 640x480 with 2 Axes>"
      ]
     },
     "metadata": {},
     "output_type": "display_data"
    }
   ],
   "source": [
    "mat_loss_df = logistic_regressor.metrics_loss(X_val,Y_val)\n",
    "mat_loss_df.rename(index={0:'Validation_data'},inplace=True)"
   ]
  },
  {
   "cell_type": "code",
   "execution_count": 151,
   "metadata": {},
   "outputs": [
    {
     "data": {
      "text/html": [
       "<div>\n",
       "<style scoped>\n",
       "    .dataframe tbody tr th:only-of-type {\n",
       "        vertical-align: middle;\n",
       "    }\n",
       "\n",
       "    .dataframe tbody tr th {\n",
       "        vertical-align: top;\n",
       "    }\n",
       "\n",
       "    .dataframe thead th {\n",
       "        text-align: right;\n",
       "    }\n",
       "</style>\n",
       "<table border=\"1\" class=\"dataframe\">\n",
       "  <thead>\n",
       "    <tr style=\"text-align: right;\">\n",
       "      <th></th>\n",
       "      <th>Recall</th>\n",
       "      <th>Precision</th>\n",
       "      <th>Mean Accuracy</th>\n",
       "    </tr>\n",
       "  </thead>\n",
       "  <tbody>\n",
       "    <tr>\n",
       "      <th>Validation_data</th>\n",
       "      <td>1.0</td>\n",
       "      <td>0.478667</td>\n",
       "      <td>0.478667</td>\n",
       "    </tr>\n",
       "  </tbody>\n",
       "</table>\n",
       "</div>"
      ],
      "text/plain": [
       "                 Recall  Precision  Mean Accuracy\n",
       "Validation_data     1.0   0.478667       0.478667"
      ]
     },
     "execution_count": 151,
     "metadata": {},
     "output_type": "execute_result"
    }
   ],
   "source": [
    "mat_loss_df"
   ]
  },
  {
   "cell_type": "code",
   "execution_count": 152,
   "metadata": {},
   "outputs": [
    {
     "data": {
      "image/png": "[encoded data removed]",
      "text/plain": [
       "<Figure size 640x480 with 2 Axes>"
      ]
     },
     "metadata": {},
     "output_type": "display_data"
    }
   ],
   "source": [
    "mat_loss_df = logistic_regressor.metrics_loss(X_test,Y_test)\n",
    "mat_loss_df.rename(index={0:'Test_data'},inplace=True)"
   ]
  },
  {
   "cell_type": "code",
   "execution_count": 153,
   "metadata": {},
   "outputs": [
    {
     "data": {
      "text/html": [
       "<div>\n",
       "<style scoped>\n",
       "    .dataframe tbody tr th:only-of-type {\n",
       "        vertical-align: middle;\n",
       "    }\n",
       "\n",
       "    .dataframe tbody tr th {\n",
       "        vertical-align: top;\n",
       "    }\n",
       "\n",
       "    .dataframe thead th {\n",
       "        text-align: right;\n",
       "    }\n",
       "</style>\n",
       "<table border=\"1\" class=\"dataframe\">\n",
       "  <thead>\n",
       "    <tr style=\"text-align: right;\">\n",
       "      <th></th>\n",
       "      <th>Recall</th>\n",
       "      <th>Precision</th>\n",
       "      <th>Mean Accuracy</th>\n",
       "    </tr>\n",
       "  </thead>\n",
       "  <tbody>\n",
       "    <tr>\n",
       "      <th>Test_data</th>\n",
       "      <td>0.849785</td>\n",
       "      <td>0.883929</td>\n",
       "      <td>0.878</td>\n",
       "    </tr>\n",
       "  </tbody>\n",
       "</table>\n",
       "</div>"
      ],
      "text/plain": [
       "             Recall  Precision  Mean Accuracy\n",
       "Test_data  0.849785   0.883929          0.878"
      ]
     },
     "execution_count": 153,
     "metadata": {},
     "output_type": "execute_result"
    }
   ],
   "source": [
    "mat_loss_df"
   ]
  },
  {
   "cell_type": "code",
   "execution_count": null,
   "metadata": {},
   "outputs": [],
   "source": []
  }
 ],
 "metadata": {
  "kernelspec": {
   "display_name": "Python 3 (ipykernel)",
   "language": "python",
   "name": "python3"
  },
  "language_info": {
   "codemirror_mode": {
    "name": "ipython",
    "version": 3
   },
   "file_extension": ".py",
   "mimetype": "text/x-python",
   "name": "python",
   "nbconvert_exporter": "python",
   "pygments_lexer": "ipython3",
   "version": "3.10.9"
  },
  "vscode": {
   "interpreter": {
    "hash": "3067ead486e059ec00ffe7555bdb889e6e264a24dc711bf108106cc7baee8d5d"
   }
  }
 },
 "nbformat": 4,
 "nbformat_minor": 2
}
